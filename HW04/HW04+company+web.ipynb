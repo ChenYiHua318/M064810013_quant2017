{
 "cells": [
  {
   "cell_type": "code",
   "execution_count": 2,
   "metadata": {
    "collapsed": true
   },
   "outputs": [],
   "source": [
    "import pandas as pd"
   ]
  },
  {
   "cell_type": "code",
   "execution_count": 3,
   "metadata": {
    "collapsed": true
   },
   "outputs": [],
   "source": [
    "import pandas_datareader.data as web"
   ]
  },
  {
   "cell_type": "code",
   "execution_count": 4,
   "metadata": {
    "collapsed": true
   },
   "outputs": [],
   "source": [
    "from flask import Flask"
   ]
  },
  {
   "cell_type": "code",
   "execution_count": 5,
   "metadata": {
    "collapsed": true
   },
   "outputs": [],
   "source": [
    "app=Flask(__name__)"
   ]
  },
  {
   "cell_type": "code",
   "execution_count": 6,
   "metadata": {
    "collapsed": true
   },
   "outputs": [],
   "source": [
    "@app.route('/')\n",
    "def index():\n",
    "    message = \"\"\"請在網址列上選擇要看的公司名單：<br/>\n",
    "    /nasdaq ==> nasdaq 的公司名單<br/>\n",
    "    /nyse ==> nyse 的公司名單<br/>\n",
    "    /amex ==> amex 的公司名單<br/>\n",
    "    \"\"\"\n",
    "    return message"
   ]
  },
  {
   "cell_type": "code",
   "execution_count": 7,
   "metadata": {
    "collapsed": true
   },
   "outputs": [],
   "source": [
    "@app.route('/nyse')\n",
    "def nyse():\n",
    "    url = \"http://www.nasdaq.com/screening/companies-by-industry.aspx?exchange=NYSE&render=download\"\n",
    "    nyse = pd.read_csv(url)\n",
    "    return nyse.to_html()"
   ]
  },
  {
   "cell_type": "code",
   "execution_count": 8,
   "metadata": {
    "collapsed": true
   },
   "outputs": [],
   "source": [
    "@app.route('/nyse/<symbol>')\n",
    "def nyse_company(symbol):\n",
    "    url = \"http://www.nasdaq.com/screening/companies-by-industry.aspx?exchange=NYSE&render=download\"\n",
    "    nyse   = pd.read_csv(url)\n",
    "    output = nyse[nyse['Symbol'].isin([symbol])]\n",
    "    return output.to_html()"
   ]
  },
  {
   "cell_type": "code",
   "execution_count": 9,
   "metadata": {
    "collapsed": true
   },
   "outputs": [],
   "source": [
    "@app.route('/nasdaq')\n",
    "def nasdaq():\n",
    "    url = \"http://www.nasdaq.com/screening/companies-by-industry.aspx?exchange=NASDAQ&render=download\"\n",
    "    nasdaq = pd.read_csv(url)\n",
    "    return nasdaq.to_html()"
   ]
  },
  {
   "cell_type": "code",
   "execution_count": 10,
   "metadata": {
    "collapsed": true
   },
   "outputs": [],
   "source": [
    "@app.route('/nasdaq/<symbol>')\n",
    "def nasdaq_company(symbol):\n",
    "    url = \"http://www.nasdaq.com/screening/companies-by-industry.aspx?exchange=NASDAQ&render=download\"\n",
    "    nasdaq = pd.read_csv(url)\n",
    "    output = nasdaq[nasdaq[\"Symbol\"].isin([symbol])]\n",
    "    return output.to_html()"
   ]
  },
  {
   "cell_type": "code",
   "execution_count": 11,
   "metadata": {
    "collapsed": true
   },
   "outputs": [],
   "source": [
    "@app.route('/amex')\n",
    "def amex():\n",
    "    url = \"http://www.nasdaq.com/screening/companies-by-industry.aspx?exchange=AMEX&render=download\"\n",
    "    amex = pd.read_csv(url)\n",
    "    return amex.to_html()"
   ]
  },
  {
   "cell_type": "code",
   "execution_count": 12,
   "metadata": {},
   "outputs": [],
   "source": [
    "@app.route('/amex/<symbol>')\n",
    "def amex_company(symbol):\n",
    "    url = \"http://www.nasdaq.com/screening/companies-by-industry.aspx?exchange=AMEX&render=download\"\n",
    "    amex   = pd.read_csv(url)\n",
    "    output = amex[amex[\"Symbol\"].isin([symbol])]\n",
    "    return output.to_html()"
   ]
  },
  {
   "cell_type": "code",
   "execution_count": null,
   "metadata": {},
   "outputs": [
    {
     "name": "stderr",
     "output_type": "stream",
     "text": [
      " * Running on http://127.0.0.1:5000/ (Press CTRL+C to quit)\n",
      "127.0.0.1 - - [30/Nov/2017 14:22:51] \"GET / HTTP/1.1\" 200 -\n",
      "127.0.0.1 - - [30/Nov/2017 14:23:09] \"GET /nasdaq HTTP/1.1\" 200 -\n",
      "127.0.0.1 - - [30/Nov/2017 14:23:20] \"GET /nasdaq/PIH HTTP/1.1\" 200 -\n",
      "127.0.0.1 - - [30/Nov/2017 14:23:24] \"GET / HTTP/1.1\" 200 -\n",
      "127.0.0.1 - - [30/Nov/2017 14:23:33] \"GET /nyse/DDD HTTP/1.1\" 200 -\n",
      "127.0.0.1 - - [30/Nov/2017 14:23:37] \"GET / HTTP/1.1\" 200 -\n",
      "127.0.0.1 - - [30/Nov/2017 14:23:44] \"GET /amex HTTP/1.1\" 200 -\n",
      "127.0.0.1 - - [30/Nov/2017 14:23:54] \"GET /amex/LAF HTTP/1.1\" 200 -\n",
      "127.0.0.1 - - [30/Nov/2017 14:24:00] \"GET /amex HTTP/1.1\" 200 -\n",
      "127.0.0.1 - - [30/Nov/2017 14:24:09] \"GET /amex/CH HTTP/1.1\" 200 -\n"
     ]
    }
   ],
   "source": [
    "if __name__==\"__main__\":\n",
    "    app.run()"
   ]
  },
  {
   "cell_type": "code",
   "execution_count": null,
   "metadata": {
    "collapsed": true
   },
   "outputs": [],
   "source": []
  }
 ],
 "metadata": {
  "kernelspec": {
   "display_name": "Python 3",
   "language": "python",
   "name": "python3"
  },
  "language_info": {
   "codemirror_mode": {
    "name": "ipython",
    "version": 3
   },
   "file_extension": ".py",
   "mimetype": "text/x-python",
   "name": "python",
   "nbconvert_exporter": "python",
   "pygments_lexer": "ipython3",
   "version": "3.6.2"
  }
 },
 "nbformat": 4,
 "nbformat_minor": 2
}
